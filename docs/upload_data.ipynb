{
 "cells": [
  {
   "attachments": {},
   "cell_type": "markdown",
   "metadata": {},
   "source": [
    "# Upload the data"
   ]
  },
  {
   "cell_type": "code",
   "execution_count": 1,
   "metadata": {},
   "outputs": [],
   "source": [
    "import pandas as pd\n",
    "\n",
    "# Set max columns to None\n",
    "pd.set_option('display.max_columns', None)"
   ]
  },
  {
   "cell_type": "code",
   "execution_count": 11,
   "metadata": {},
   "outputs": [],
   "source": [
    "tables = {\n",
    "    \"BenefitsCostSharing\": {\n",
    "        # 2016 removed two fields: 'IsSubjToDedTier2', 'IsSubjToDedTier1\n",
    "        \"2016\": \"raw/2016/Benefits_Cost_Sharing_PUF_2015-12-08.csv\",\n",
    "        \"2015\": \"raw/2015/Benefits_Cost_Sharing_PUF.csv\",\n",
    "        \"2014\": \"raw/2014/Benefits_Cost_Sharing_PUF.csv\"\n",
    "    },\n",
    "    \"BusinessRules\": {\n",
    "        # 2016 renamed DentalOnly => DentalOnlyPlan\n",
    "        \"2016\": \"raw/2016/Business_Rules_PUF_2015-12-08.csv\",\n",
    "        \"2015\": \"raw/2015/Business_Rules_PUF_Reformat.csv\",\n",
    "        \"2014\": \"raw/2014/Business_Rules_PUF.csv\"\n",
    "    },\n",
    "    \"Crosswalk2015\": {\n",
    "        \"data\": \"raw/2015/Plan_Crosswalk_PUF_2014-12-22.csv\"\n",
    "    },\n",
    "    \"Crosswalk2016\": {\n",
    "        \"data\": \"raw/2016/Plan_ID_Crosswalk_PUF_2015-12-07.CSV\"\n",
    "    },\n",
    "    \"Network\": {\n",
    "        # 2016 renamed DentalOnly => DentalOnlyPlan\n",
    "        \"2016\": \"raw/2016/Network_PUF_2015-12-08.csv\",\n",
    "        \"2015\": \"raw/2015/Network_PUF.csv\",\n",
    "        \"2014\": \"raw/2014/Network_PUF.csv\"\n",
    "    },\n",
    "    \"PlanAttributes\": {\n",
    "        # This is complicated - lots of fields change b/t 2014/2015 & 2016\n",
    "        \"2016\": \"raw/2016/Plan_Attributes_PUF_2015-12-08.csv\",\n",
    "        \"2015\": \"raw/2015/Plan_Attributes_PUF.csv\",\n",
    "        \"2014\": \"raw/2014/Plan_Attributes_PUF_2014_2015-03-09.csv\"\n",
    "    },\n",
    "    \"Rate\": {\n",
    "        # 2016 same structure as 2015 and 2014\n",
    "        \"2016\": \"raw/2016/Rate_PUF_2015-12-08.csv\",\n",
    "        \"2015\": \"raw/2015/Rate_PUF.csv\",\n",
    "        \"2014\": \"raw/2014/Rate_PUF.csv\"\n",
    "    },\n",
    "    \"ServiceArea\": {\n",
    "        # 2016 renamed DentalOnly => DentalOnlyPlan\n",
    "        \"2016\": \"raw/2016/ServiceArea_PUF_2015-12-08.csv\",\n",
    "        \"2015\": \"raw/2015/Service_Area_PUF.csv\",\n",
    "        \"2014\": \"raw/2014/Service_Area_PUF.csv\"\n",
    "    }\n",
    "}"
   ]
  },
  {
   "cell_type": "code",
   "execution_count": 2,
   "metadata": {},
   "outputs": [],
   "source": [
    "pre_path = '../data/archive/'"
   ]
  },
  {
   "attachments": {},
   "cell_type": "markdown",
   "metadata": {},
   "source": [
    "## add datas in data lake"
   ]
  },
  {
   "cell_type": "code",
   "execution_count": 3,
   "metadata": {},
   "outputs": [],
   "source": [
    "import configparser\n",
    "from io import StringIO , BytesIO\n",
    "config = configparser.ConfigParser()"
   ]
  },
  {
   "cell_type": "code",
   "execution_count": 4,
   "metadata": {},
   "outputs": [],
   "source": [
    "config.read('../notebooks/config-dev.ini')\n",
    "\n",
    "data_lake_user = config['azure']['data_lake_user']\n",
    "data_lake_key = config['azure']['data_lake_key']\n",
    "fs_name = config['datalake']['fs_name']"
   ]
  },
  {
   "cell_type": "code",
   "execution_count": 7,
   "metadata": {},
   "outputs": [],
   "source": [
    "import sys\n",
    "sys.path.append('/home/renan/dev/python/project-tcc/dags/')\n",
    "\n",
    "from util import datalake\n",
    "client = datalake.DataLake(data_lake_user,data_lake_key,fs_name)"
   ]
  },
  {
   "cell_type": "code",
   "execution_count": 11,
   "metadata": {},
   "outputs": [
    {
     "data": {
      "text/plain": [
       "['raw_data/2014',\n",
       " 'raw_data/2014/Benefits_Cost_Sharing_PUF.csv',\n",
       " 'raw_data/2014/Business_Rules_PUF.csv',\n",
       " 'raw_data/2014/Network_PUF.csv',\n",
       " 'raw_data/2014/Plan_Attributes_PUF_2014_2015-03-09.csv',\n",
       " 'raw_data/2014/Rate_PUF.csv',\n",
       " 'raw_data/2014/Service_Area_PUF.csv',\n",
       " 'raw_data/2015',\n",
       " 'raw_data/2015/Benefits_Cost_Sharing_PUF.csv',\n",
       " 'raw_data/2015/Business_Rules_PUF_Reformat.csv',\n",
       " 'raw_data/2015/Network_PUF.csv',\n",
       " 'raw_data/2015/Plan_Attributes_PUF.csv',\n",
       " 'raw_data/2015/Rate_PUF.csv',\n",
       " 'raw_data/2015/Service_Area_PUF.csv',\n",
       " 'raw_data/2016',\n",
       " 'raw_data/2016/Benefits_Cost_Sharing_PUF_2015-12-08.csv',\n",
       " 'raw_data/2016/Business_Rules_PUF_2015-12-08.csv',\n",
       " 'raw_data/2016/Network_PUF_2015-12-08.csv',\n",
       " 'raw_data/2016/Plan_Attributes_PUF_2015-12-08.csv',\n",
       " 'raw_data/2016/Rate_PUF_2015-12-08.csv',\n",
       " 'raw_data/2016/ServiceArea_PUF_2015-12-08.csv',\n",
       " 'raw_data/2017',\n",
       " 'raw_data/2017/Benefits_Cost_Sharing_PUF_with_errors.csv',\n",
       " 'raw_data/data',\n",
       " 'raw_data/data/Plan_Crosswalk_PUF_2014-12-22.csv',\n",
       " 'raw_data/data/Plan_ID_Crosswalk_PUF_2015-12-07.CSV']"
      ]
     },
     "execution_count": 11,
     "metadata": {},
     "output_type": "execute_result"
    }
   ],
   "source": [
    "client.list_files('/raw_data')"
   ]
  },
  {
   "cell_type": "code",
   "execution_count": 10,
   "metadata": {},
   "outputs": [
    {
     "data": {
      "text/plain": [
       "{'date': datetime.datetime(2023, 6, 20, 11, 41, 3, tzinfo=datetime.timezone.utc),\n",
       " 'request_id': '03657a98-401f-0018-646c-a3c93c000000',\n",
       " 'version': '2022-11-02',\n",
       " 'continuation': None,\n",
       " 'deletion_id': '133317348636583633'}"
      ]
     },
     "execution_count": 10,
     "metadata": {},
     "output_type": "execute_result"
    }
   ],
   "source": [
    "client.rm_file('raw_data/2017', 'Benefits_Cost_Sharing_PUF_2017-12-08.csv')"
   ]
  },
  {
   "cell_type": "code",
   "execution_count": 9,
   "metadata": {},
   "outputs": [
    {
     "data": {
      "text/plain": [
       "{'name': 'raw_data/2017/Benefits_Cost_Sharing_PUF_with_errors.csv', 'etag': '\"0x8DB7182468F229F\"', 'deleted': False, 'metadata': {'content_hash': '2017_Benefits_Cost_Sharing_PUF_with_errors.csv', 'filename': 'Benefits_Cost_Sharing_PUF_with_errors.csv', 'id': '100', 'schema': 'BenefitsCostSharing', 'year': '2017'}, 'lease': {'status': 'unlocked', 'state': 'available', 'duration': None}, 'last_modified': datetime.datetime(2023, 6, 20, 11, 34, 14, tzinfo=datetime.timezone.utc), 'creation_time': datetime.datetime(2023, 6, 20, 11, 34, 13, tzinfo=datetime.timezone.utc), 'size': 472138, 'deleted_time': None, 'expiry_time': None, 'remaining_retention_days': None, 'content_settings': {'content_type': 'application/octet-stream', 'content_encoding': None, 'content_language': None, 'content_md5': None, 'content_disposition': None, 'cache_control': None}, 'encryption_scope': None, 'encryption_context': None}"
      ]
     },
     "execution_count": 9,
     "metadata": {},
     "output_type": "execute_result"
    }
   ],
   "source": [
    "id_number = 100\n",
    "table = 'BenefitsCostSharing'\n",
    "ano = '2017'\n",
    "d2016 = pd.read_csv(pre_path + 'raw/2016/Benefits_Cost_Sharing_PUF_2015-12-08.csv', encoding=\"latin1\", low_memory=False)\n",
    "d2016 = d2016.head(2000)\n",
    "d2016 = d2016.drop(d2016.columns[:3], axis=1)\n",
    "filename = 'Benefits_Cost_Sharing_PUF_with_errors.csv'\n",
    "md2016 = {\n",
    "    'id': str(id_number),\n",
    "    'schema': table,\n",
    "    'filename': filename,\n",
    "    'content_hash': ano + '_' + filename,\n",
    "    'year': ano\n",
    "}\n",
    "\n",
    "client.upload_data_frame(d2016, 'raw_data/' + ano, filename, \n",
    "                    file_metadata=md2016, \n",
    "                    remote_output_format='csv',\n",
    "                    overwrite_flag=True)"
   ]
  },
  {
   "cell_type": "code",
   "execution_count": 17,
   "metadata": {},
   "outputs": [
    {
     "name": "stdout",
     "output_type": "stream",
     "text": [
      "BenefitsCostSharing\n",
      "BusinessRules\n",
      "Crosswalk2015\n",
      "Crosswalk2016\n",
      "Network\n",
      "PlanAttributes\n",
      "Rate\n",
      "ServiceArea\n"
     ]
    }
   ],
   "source": [
    "id_number = 0\n",
    "incr = 1\n",
    "\n",
    "for table in tables:\n",
    "    print(table)\n",
    "\n",
    "    if table[:9] != \"Crosswalk\":\n",
    "        id_number += incr\n",
    "        ano = '2016'\n",
    "        d2016 = pd.read_csv(pre_path + tables[table][ano], encoding=\"latin1\", low_memory=False)\n",
    "        d2016 = d2016.head(2000)\n",
    "        filename = tables[table][ano].split('/')[-1]\n",
    "        md2016 = {\n",
    "            'id': str(id_number),\n",
    "            'schema': table,\n",
    "            'filename': filename,\n",
    "            'content_hash': ano + '_' + filename,\n",
    "            'year': ano\n",
    "        }\n",
    "\n",
    "        client.upload_data_frame(d2016, 'raw_data/' + ano, filename, \n",
    "                         file_metadata=md2016, \n",
    "                         remote_output_format='csv',\n",
    "                         overwrite_flag=True)\n",
    "        \n",
    "        id_number += incr\n",
    "        ano = '2015'\n",
    "        d2015 = pd.read_csv(pre_path + tables[table][ano], encoding=\"latin1\", low_memory=False)\n",
    "        d2015 = d2015.head(2000)\n",
    "        filename = tables[table][ano].split('/')[-1]\n",
    "        md2015 = {\n",
    "            'id': str(id_number),\n",
    "            'schema': table,\n",
    "            'filename': filename,\n",
    "            'content_hash': ano + '_' + filename,\n",
    "            'year': ano\n",
    "        }\n",
    "\n",
    "        client.upload_data_frame(d2015, 'raw_data/' + ano, filename, \n",
    "                         file_metadata=md2015, \n",
    "                         remote_output_format='csv',\n",
    "                         overwrite_flag=True)\n",
    "\n",
    "        id_number += incr\n",
    "        ano = '2014'\n",
    "        d2014 = pd.read_csv(pre_path + tables[table][ano], encoding=\"latin1\", low_memory=False)\n",
    "        d2014 = d2014.head(2000)\n",
    "        filename = tables[table][ano].split('/')[-1]\n",
    "        md2014 = {\n",
    "            'id': str(id_number),\n",
    "            'schema': table,\n",
    "            'filename': filename,\n",
    "            'content_hash': ano + '_' + filename,\n",
    "            'year': ano\n",
    "        }\n",
    "\n",
    "        client.upload_data_frame(d2014, 'raw_data/' + ano, filename, \n",
    "                         file_metadata=md2014, \n",
    "                         remote_output_format='csv',\n",
    "                         overwrite_flag=True)\n",
    "\n",
    "        \n",
    "    else:\n",
    "        id_number += incr\n",
    "        ano = 'data'\n",
    "        data = pd.read_csv(pre_path + tables[table][ano], encoding=\"latin1\", low_memory=False)\n",
    "        data = data.head(2000)\n",
    "        filename = tables[table][ano].split('/')[-1]\n",
    "        md = {\n",
    "            'id': str(id_number),\n",
    "            'schema': table,\n",
    "            'filename': filename,\n",
    "            'content_hash': ano + '_' + filename,\n",
    "            'year': ano\n",
    "        }\n",
    "\n",
    "        client.upload_data_frame(data, 'raw_data/' + ano, filename, \n",
    "                         file_metadata=md, \n",
    "                         remote_output_format='csv',\n",
    "                         overwrite_flag=True)\n"
   ]
  },
  {
   "cell_type": "code",
   "execution_count": 16,
   "metadata": {},
   "outputs": [
    {
     "data": {
      "text/plain": [
       "['raw_data/2014',\n",
       " 'raw_data/2014/Benefits_Cost_Sharing_PUF.csv',\n",
       " 'raw_data/2014/Business_Rules_PUF.csv',\n",
       " 'raw_data/2014/Network_PUF.csv',\n",
       " 'raw_data/2014/Plan_Attributes_PUF_2014_2015-03-09.csv',\n",
       " 'raw_data/2014/Rate_PUF.csv',\n",
       " 'raw_data/2014/Service_Area_PUF.csv',\n",
       " 'raw_data/2015',\n",
       " 'raw_data/2015/Benefits_Cost_Sharing_PUF.csv',\n",
       " 'raw_data/2015/Business_Rules_PUF_Reformat.csv',\n",
       " 'raw_data/2015/Network_PUF.csv',\n",
       " 'raw_data/2015/Plan_Attributes_PUF.csv',\n",
       " 'raw_data/2015/Rate_PUF.csv',\n",
       " 'raw_data/2015/Service_Area_PUF.csv',\n",
       " 'raw_data/2016',\n",
       " 'raw_data/2016/Benefits_Cost_Sharing_PUF_2015-12-08.csv',\n",
       " 'raw_data/2016/Business_Rules_PUF_2015-12-08.csv',\n",
       " 'raw_data/2016/Network_PUF_2015-12-08.csv',\n",
       " 'raw_data/2016/Plan_Attributes_PUF_2015-12-08.csv',\n",
       " 'raw_data/2016/Rate_PUF_2015-12-08.csv',\n",
       " 'raw_data/2016/ServiceArea_PUF_2015-12-08.csv',\n",
       " 'raw_data/ServiceArea_PUF_2015.csv',\n",
       " 'raw_data/ServiceArea_PUF_2015.parquet',\n",
       " 'raw_data/data',\n",
       " 'raw_data/data/Plan_Crosswalk_PUF_2014-12-22.csv',\n",
       " 'raw_data/data/Plan_ID_Crosswalk_PUF_2015-12-07.CSV']"
      ]
     },
     "execution_count": 16,
     "metadata": {},
     "output_type": "execute_result"
    }
   ],
   "source": [
    "client.list_files('raw_data')"
   ]
  }
 ],
 "metadata": {
  "kernelspec": {
   "display_name": "env",
   "language": "python",
   "name": "python3"
  },
  "language_info": {
   "codemirror_mode": {
    "name": "ipython",
    "version": 3
   },
   "file_extension": ".py",
   "mimetype": "text/x-python",
   "name": "python",
   "nbconvert_exporter": "python",
   "pygments_lexer": "ipython3",
   "version": "3.10.6"
  },
  "orig_nbformat": 4
 },
 "nbformat": 4,
 "nbformat_minor": 2
}
