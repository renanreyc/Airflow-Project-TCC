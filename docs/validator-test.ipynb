{
 "cells": [
  {
   "cell_type": "code",
   "execution_count": 1,
   "metadata": {},
   "outputs": [
    {
     "data": {
      "text/plain": [
       "['../notebooks/config-dev.ini']"
      ]
     },
     "execution_count": 1,
     "metadata": {},
     "output_type": "execute_result"
    }
   ],
   "source": [
    "import sys\n",
    "import pandas as pd\n",
    "import configparser\n",
    "from io import StringIO , BytesIO\n",
    "\n",
    "sys.path.append('/home/renan/dev/python/project-tcc/dags/')\n",
    "config = configparser.ConfigParser()\n",
    "config.read('../notebooks/config-dev.ini')"
   ]
  },
  {
   "cell_type": "code",
   "execution_count": 2,
   "metadata": {},
   "outputs": [],
   "source": [
    "from util import datalake\n",
    "from util.data import creater_analysis, pre_processing\n",
    "\n",
    "data_lake_user = config['azure']['data_lake_user']\n",
    "data_lake_key = config['azure']['data_lake_key']\n",
    "fs_name = config['datalake']['fs_name']"
   ]
  },
  {
   "cell_type": "code",
   "execution_count": 3,
   "metadata": {},
   "outputs": [
    {
     "data": {
      "text/plain": [
       "['raw_data/2014',\n",
       " 'raw_data/2014/Benefits_Cost_Sharing_PUF.csv',\n",
       " 'raw_data/2014/Business_Rules_PUF.csv',\n",
       " 'raw_data/2014/Network_PUF.csv',\n",
       " 'raw_data/2014/Plan_Attributes_PUF_2014_2015-03-09.csv',\n",
       " 'raw_data/2014/Rate_PUF.csv',\n",
       " 'raw_data/2014/Service_Area_PUF.csv',\n",
       " 'raw_data/2015',\n",
       " 'raw_data/2015/Benefits_Cost_Sharing_PUF.csv',\n",
       " 'raw_data/2015/Business_Rules_PUF_Reformat.csv',\n",
       " 'raw_data/2015/Network_PUF.csv',\n",
       " 'raw_data/2015/Plan_Attributes_PUF.csv',\n",
       " 'raw_data/2015/Rate_PUF.csv',\n",
       " 'raw_data/2015/Service_Area_PUF.csv',\n",
       " 'raw_data/2016',\n",
       " 'raw_data/2016/Benefits_Cost_Sharing_PUF_2015-12-08.csv',\n",
       " 'raw_data/2016/Business_Rules_PUF_2015-12-08.csv',\n",
       " 'raw_data/2016/Network_PUF_2015-12-08.csv',\n",
       " 'raw_data/2016/Plan_Attributes_PUF_2015-12-08.csv',\n",
       " 'raw_data/2016/Rate_PUF_2015-12-08.csv',\n",
       " 'raw_data/2016/ServiceArea_PUF_2015-12-08.csv',\n",
       " 'raw_data/data',\n",
       " 'raw_data/data/Plan_Crosswalk_PUF_2014-12-22.csv',\n",
       " 'raw_data/data/Plan_ID_Crosswalk_PUF_2015-12-07.CSV']"
      ]
     },
     "execution_count": 3,
     "metadata": {},
     "output_type": "execute_result"
    }
   ],
   "source": [
    "client = datalake.DataLake(data_lake_user, data_lake_key, fs_name)\n",
    "client.list_files('raw_data')"
   ]
  },
  {
   "cell_type": "code",
   "execution_count": 4,
   "metadata": {},
   "outputs": [],
   "source": [
    "name_file = 'Benefits_Cost_Sharing_PUF'"
   ]
  },
  {
   "cell_type": "code",
   "execution_count": 5,
   "metadata": {},
   "outputs": [
    {
     "data": {
      "text/plain": [
       "{'content_hash': '2014_Benefits_Cost_Sharing_PUF.csv',\n",
       " 'filename': 'Benefits_Cost_Sharing_PUF.csv',\n",
       " 'id': '3',\n",
       " 'schema': 'BenefitsCostSharing',\n",
       " 'year': '2014'}"
      ]
     },
     "execution_count": 5,
     "metadata": {},
     "output_type": "execute_result"
    }
   ],
   "source": [
    "buffer, _, metadata = client.get_file('raw_data/2014/', name_file + '.csv')\n",
    "df = pd.read_csv(BytesIO(buffer))\n",
    "md = metadata.metadata\n",
    "md"
   ]
  },
  {
   "cell_type": "code",
   "execution_count": 6,
   "metadata": {},
   "outputs": [
    {
     "data": {
      "text/html": [
       "<div>\n",
       "<style scoped>\n",
       "    .dataframe tbody tr th:only-of-type {\n",
       "        vertical-align: middle;\n",
       "    }\n",
       "\n",
       "    .dataframe tbody tr th {\n",
       "        vertical-align: top;\n",
       "    }\n",
       "\n",
       "    .dataframe thead th {\n",
       "        text-align: right;\n",
       "    }\n",
       "</style>\n",
       "<table border=\"1\" class=\"dataframe\">\n",
       "  <thead>\n",
       "    <tr style=\"text-align: right;\">\n",
       "      <th></th>\n",
       "      <th>column_name</th>\n",
       "      <th>is_anonymizated_field</th>\n",
       "      <th>is_primary_key</th>\n",
       "      <th>column_name_formatted</th>\n",
       "      <th>percent_filling</th>\n",
       "      <th>column_type_dataframe</th>\n",
       "      <th>column_type</th>\n",
       "      <th>column_size</th>\n",
       "      <th>column_percent_unique</th>\n",
       "    </tr>\n",
       "  </thead>\n",
       "  <tbody>\n",
       "    <tr>\n",
       "      <th>0</th>\n",
       "      <td>BusinessYear</td>\n",
       "      <td>False</td>\n",
       "      <td>False</td>\n",
       "      <td>BUSINESSYEAR</td>\n",
       "      <td>100.0</td>\n",
       "      <td>int64</td>\n",
       "      <td>INTEGER</td>\n",
       "      <td>NaN</td>\n",
       "      <td>0.01</td>\n",
       "    </tr>\n",
       "    <tr>\n",
       "      <th>1</th>\n",
       "      <td>StateCode</td>\n",
       "      <td>False</td>\n",
       "      <td>False</td>\n",
       "      <td>STATECODE</td>\n",
       "      <td>100.0</td>\n",
       "      <td>object</td>\n",
       "      <td>VARCHAR</td>\n",
       "      <td>2.0</td>\n",
       "      <td>0.02</td>\n",
       "    </tr>\n",
       "    <tr>\n",
       "      <th>2</th>\n",
       "      <td>IssuerId</td>\n",
       "      <td>False</td>\n",
       "      <td>False</td>\n",
       "      <td>ISSUERID</td>\n",
       "      <td>100.0</td>\n",
       "      <td>int64</td>\n",
       "      <td>INTEGER</td>\n",
       "      <td>NaN</td>\n",
       "      <td>0.13</td>\n",
       "    </tr>\n",
       "    <tr>\n",
       "      <th>3</th>\n",
       "      <td>SourceName</td>\n",
       "      <td>False</td>\n",
       "      <td>False</td>\n",
       "      <td>SOURCENAME</td>\n",
       "      <td>100.0</td>\n",
       "      <td>object</td>\n",
       "      <td>VARCHAR</td>\n",
       "      <td>4.0</td>\n",
       "      <td>0.01</td>\n",
       "    </tr>\n",
       "    <tr>\n",
       "      <th>4</th>\n",
       "      <td>VersionNum</td>\n",
       "      <td>False</td>\n",
       "      <td>False</td>\n",
       "      <td>VERSIONNUM</td>\n",
       "      <td>100.0</td>\n",
       "      <td>int64</td>\n",
       "      <td>INTEGER</td>\n",
       "      <td>NaN</td>\n",
       "      <td>0.08</td>\n",
       "    </tr>\n",
       "  </tbody>\n",
       "</table>\n",
       "</div>"
      ],
      "text/plain": [
       "    column_name  is_anonymizated_field  is_primary_key column_name_formatted  \\\n",
       "0  BusinessYear                  False           False          BUSINESSYEAR   \n",
       "1     StateCode                  False           False             STATECODE   \n",
       "2      IssuerId                  False           False              ISSUERID   \n",
       "3    SourceName                  False           False            SOURCENAME   \n",
       "4    VersionNum                  False           False            VERSIONNUM   \n",
       "\n",
       "   percent_filling column_type_dataframe column_type  column_size  \\\n",
       "0            100.0                 int64     INTEGER          NaN   \n",
       "1            100.0                object     VARCHAR          2.0   \n",
       "2            100.0                 int64     INTEGER          NaN   \n",
       "3            100.0                object     VARCHAR          4.0   \n",
       "4            100.0                 int64     INTEGER          NaN   \n",
       "\n",
       "   column_percent_unique  \n",
       "0                   0.01  \n",
       "1                   0.02  \n",
       "2                   0.13  \n",
       "3                   0.01  \n",
       "4                   0.08  "
      ]
     },
     "metadata": {},
     "output_type": "display_data"
    }
   ],
   "source": [
    "new_name_file = md['schema'] + \"_validator.json\"\n",
    "\n",
    "df_validator = pd.read_json(\"../data/json/\" + new_name_file) \n",
    "df_validator = df_validator.rename(columns=lambda x: x.split('_', 1)[1])\n",
    "display(df_validator.head(5))"
   ]
  },
  {
   "cell_type": "code",
   "execution_count": 7,
   "metadata": {},
   "outputs": [],
   "source": [
    "from util.data import schema_validator, creater_analysis\n"
   ]
  },
  {
   "cell_type": "code",
   "execution_count": 8,
   "metadata": {},
   "outputs": [
    {
     "data": {
      "text/html": [
       "<div>\n",
       "<style scoped>\n",
       "    .dataframe tbody tr th:only-of-type {\n",
       "        vertical-align: middle;\n",
       "    }\n",
       "\n",
       "    .dataframe tbody tr th {\n",
       "        vertical-align: top;\n",
       "    }\n",
       "\n",
       "    .dataframe thead th {\n",
       "        text-align: right;\n",
       "    }\n",
       "</style>\n",
       "<table border=\"1\" class=\"dataframe\">\n",
       "  <thead>\n",
       "    <tr style=\"text-align: right;\">\n",
       "      <th></th>\n",
       "      <th>column_name</th>\n",
       "      <th>column_name_formatted</th>\n",
       "      <th>percent_filling</th>\n",
       "      <th>column_type_dataframe</th>\n",
       "      <th>column_type</th>\n",
       "      <th>column_size</th>\n",
       "      <th>column_percent_unique</th>\n",
       "    </tr>\n",
       "  </thead>\n",
       "  <tbody>\n",
       "    <tr>\n",
       "      <th>0</th>\n",
       "      <td>BusinessYear</td>\n",
       "      <td>BUSINESSYEAR</td>\n",
       "      <td>100.0</td>\n",
       "      <td>int64</td>\n",
       "      <td>INTEGER</td>\n",
       "      <td>None</td>\n",
       "      <td>0.05</td>\n",
       "    </tr>\n",
       "    <tr>\n",
       "      <th>1</th>\n",
       "      <td>StateCode</td>\n",
       "      <td>STATECODE</td>\n",
       "      <td>100.0</td>\n",
       "      <td>object</td>\n",
       "      <td>VARCHAR</td>\n",
       "      <td>2</td>\n",
       "      <td>0.05</td>\n",
       "    </tr>\n",
       "    <tr>\n",
       "      <th>2</th>\n",
       "      <td>IssuerId</td>\n",
       "      <td>ISSUERID</td>\n",
       "      <td>100.0</td>\n",
       "      <td>int64</td>\n",
       "      <td>INTEGER</td>\n",
       "      <td>None</td>\n",
       "      <td>0.25</td>\n",
       "    </tr>\n",
       "    <tr>\n",
       "      <th>3</th>\n",
       "      <td>SourceName</td>\n",
       "      <td>SOURCENAME</td>\n",
       "      <td>100.0</td>\n",
       "      <td>object</td>\n",
       "      <td>VARCHAR</td>\n",
       "      <td>4</td>\n",
       "      <td>0.05</td>\n",
       "    </tr>\n",
       "    <tr>\n",
       "      <th>4</th>\n",
       "      <td>VersionNum</td>\n",
       "      <td>VERSIONNUM</td>\n",
       "      <td>100.0</td>\n",
       "      <td>int64</td>\n",
       "      <td>INTEGER</td>\n",
       "      <td>None</td>\n",
       "      <td>0.20</td>\n",
       "    </tr>\n",
       "  </tbody>\n",
       "</table>\n",
       "</div>"
      ],
      "text/plain": [
       "    column_name column_name_formatted  percent_filling column_type_dataframe  \\\n",
       "0  BusinessYear          BUSINESSYEAR            100.0                 int64   \n",
       "1     StateCode             STATECODE            100.0                object   \n",
       "2      IssuerId              ISSUERID            100.0                 int64   \n",
       "3    SourceName            SOURCENAME            100.0                object   \n",
       "4    VersionNum            VERSIONNUM            100.0                 int64   \n",
       "\n",
       "  column_type column_size  column_percent_unique  \n",
       "0     INTEGER        None                   0.05  \n",
       "1     VARCHAR           2                   0.05  \n",
       "2     INTEGER        None                   0.25  \n",
       "3     VARCHAR           4                   0.05  \n",
       "4     INTEGER        None                   0.20  "
      ]
     },
     "metadata": {},
     "output_type": "display_data"
    }
   ],
   "source": [
    "df_analysis = creater_analysis.create_schema_analysis(df)\n",
    "display(df_analysis.head(5))"
   ]
  },
  {
   "cell_type": "code",
   "execution_count": 9,
   "metadata": {},
   "outputs": [
    {
     "data": {
      "text/html": [
       "<div>\n",
       "<style scoped>\n",
       "    .dataframe tbody tr th:only-of-type {\n",
       "        vertical-align: middle;\n",
       "    }\n",
       "\n",
       "    .dataframe tbody tr th {\n",
       "        vertical-align: top;\n",
       "    }\n",
       "\n",
       "    .dataframe thead th {\n",
       "        text-align: right;\n",
       "    }\n",
       "</style>\n",
       "<table border=\"1\" class=\"dataframe\">\n",
       "  <thead>\n",
       "    <tr style=\"text-align: right;\">\n",
       "      <th></th>\n",
       "      <th>column_name</th>\n",
       "      <th>is_anonymizated_field</th>\n",
       "      <th>is_primary_key</th>\n",
       "      <th>column_name_formatted</th>\n",
       "      <th>percent_filling</th>\n",
       "      <th>column_type_dataframe</th>\n",
       "      <th>column_type</th>\n",
       "      <th>column_size</th>\n",
       "      <th>column_percent_unique</th>\n",
       "    </tr>\n",
       "  </thead>\n",
       "  <tbody>\n",
       "    <tr>\n",
       "      <th>1</th>\n",
       "      <td>StateCode</td>\n",
       "      <td>False</td>\n",
       "      <td>False</td>\n",
       "      <td>STATECODE</td>\n",
       "      <td>100.0</td>\n",
       "      <td>object</td>\n",
       "      <td>VARCHAR</td>\n",
       "      <td>2.0</td>\n",
       "      <td>0.02</td>\n",
       "    </tr>\n",
       "    <tr>\n",
       "      <th>2</th>\n",
       "      <td>IssuerId</td>\n",
       "      <td>False</td>\n",
       "      <td>False</td>\n",
       "      <td>ISSUERID</td>\n",
       "      <td>100.0</td>\n",
       "      <td>int64</td>\n",
       "      <td>INTEGER</td>\n",
       "      <td>NaN</td>\n",
       "      <td>0.13</td>\n",
       "    </tr>\n",
       "  </tbody>\n",
       "</table>\n",
       "</div>"
      ],
      "text/plain": [
       "  column_name  is_anonymizated_field  is_primary_key column_name_formatted  \\\n",
       "1   StateCode                  False           False             STATECODE   \n",
       "2    IssuerId                  False           False              ISSUERID   \n",
       "\n",
       "   percent_filling column_type_dataframe column_type  column_size  \\\n",
       "1            100.0                object     VARCHAR          2.0   \n",
       "2            100.0                 int64     INTEGER          NaN   \n",
       "\n",
       "   column_percent_unique  \n",
       "1                   0.02  \n",
       "2                   0.13  "
      ]
     },
     "execution_count": 9,
     "metadata": {},
     "output_type": "execute_result"
    }
   ],
   "source": [
    "df_validator = df_validator.drop(df_validator.index[0])\n",
    "df_validator.head(2)"
   ]
  },
  {
   "cell_type": "code",
   "execution_count": 10,
   "metadata": {},
   "outputs": [],
   "source": [
    "validationData = schema_validator.SchemaValidator(df_analysis, df_validator)"
   ]
  },
  {
   "cell_type": "code",
   "execution_count": 11,
   "metadata": {},
   "outputs": [],
   "source": [
    "df_validator.loc[:4, 'is_anonymizated_field'] = True"
   ]
  },
  {
   "cell_type": "code",
   "execution_count": 12,
   "metadata": {},
   "outputs": [
    {
     "data": {
      "text/plain": [
       "array(['StateCode', 'IssuerId', 'SourceName', 'VersionNum'], dtype=object)"
      ]
     },
     "execution_count": 12,
     "metadata": {},
     "output_type": "execute_result"
    }
   ],
   "source": [
    "filtered_values = df_validator.loc[df_validator['is_anonymizated_field'], 'column_name'].values\n",
    "filtered_values"
   ]
  },
  {
   "cell_type": "code",
   "execution_count": 11,
   "metadata": {},
   "outputs": [
    {
     "data": {
      "text/html": [
       "<div>\n",
       "<style scoped>\n",
       "    .dataframe tbody tr th:only-of-type {\n",
       "        vertical-align: middle;\n",
       "    }\n",
       "\n",
       "    .dataframe tbody tr th {\n",
       "        vertical-align: top;\n",
       "    }\n",
       "\n",
       "    .dataframe thead th {\n",
       "        text-align: right;\n",
       "    }\n",
       "</style>\n",
       "<table border=\"1\" class=\"dataframe\">\n",
       "  <thead>\n",
       "    <tr style=\"text-align: right;\">\n",
       "      <th></th>\n",
       "      <th>column_name</th>\n",
       "      <th>column_name_formatted</th>\n",
       "      <th>percent_filling</th>\n",
       "      <th>column_type_dataframe</th>\n",
       "      <th>column_type</th>\n",
       "      <th>column_size</th>\n",
       "      <th>column_percent_unique</th>\n",
       "    </tr>\n",
       "  </thead>\n",
       "  <tbody>\n",
       "    <tr>\n",
       "      <th>0</th>\n",
       "      <td>BusinessYear</td>\n",
       "      <td>BUSINESSYEAR</td>\n",
       "      <td>100.0</td>\n",
       "      <td>int64</td>\n",
       "      <td>INTEGER</td>\n",
       "      <td>None</td>\n",
       "      <td>0.05</td>\n",
       "    </tr>\n",
       "    <tr>\n",
       "      <th>1</th>\n",
       "      <td>StateCode</td>\n",
       "      <td>STATECODE</td>\n",
       "      <td>100.0</td>\n",
       "      <td>object</td>\n",
       "      <td>VARCHAR</td>\n",
       "      <td>2</td>\n",
       "      <td>0.05</td>\n",
       "    </tr>\n",
       "    <tr>\n",
       "      <th>2</th>\n",
       "      <td>IssuerId</td>\n",
       "      <td>ISSUERID</td>\n",
       "      <td>100.0</td>\n",
       "      <td>int64</td>\n",
       "      <td>INTEGER</td>\n",
       "      <td>None</td>\n",
       "      <td>0.25</td>\n",
       "    </tr>\n",
       "    <tr>\n",
       "      <th>3</th>\n",
       "      <td>SourceName</td>\n",
       "      <td>SOURCENAME</td>\n",
       "      <td>100.0</td>\n",
       "      <td>object</td>\n",
       "      <td>VARCHAR</td>\n",
       "      <td>4</td>\n",
       "      <td>0.05</td>\n",
       "    </tr>\n",
       "  </tbody>\n",
       "</table>\n",
       "</div>"
      ],
      "text/plain": [
       "    column_name column_name_formatted  percent_filling column_type_dataframe  \\\n",
       "0  BusinessYear          BUSINESSYEAR            100.0                 int64   \n",
       "1     StateCode             STATECODE            100.0                object   \n",
       "2      IssuerId              ISSUERID            100.0                 int64   \n",
       "3    SourceName            SOURCENAME            100.0                object   \n",
       "\n",
       "  column_type column_size  column_percent_unique  \n",
       "0     INTEGER        None                   0.05  \n",
       "1     VARCHAR           2                   0.05  \n",
       "2     INTEGER        None                   0.25  \n",
       "3     VARCHAR           4                   0.05  "
      ]
     },
     "metadata": {},
     "output_type": "display_data"
    }
   ],
   "source": [
    "# Step 1 - Validate the database\n",
    "display(validationData.get_analysis_df().head(4))"
   ]
  },
  {
   "cell_type": "code",
   "execution_count": 12,
   "metadata": {},
   "outputs": [
    {
     "data": {
      "text/plain": [
       "31"
      ]
     },
     "execution_count": 12,
     "metadata": {},
     "output_type": "execute_result"
    }
   ],
   "source": [
    "validationData.get_validator_df().shape[0]"
   ]
  },
  {
   "cell_type": "code",
   "execution_count": 13,
   "metadata": {},
   "outputs": [
    {
     "data": {
      "text/plain": [
       "31"
      ]
     },
     "execution_count": 13,
     "metadata": {},
     "output_type": "execute_result"
    }
   ],
   "source": [
    "validationData.get_analysis_filted_df().shape[0]"
   ]
  },
  {
   "cell_type": "code",
   "execution_count": 15,
   "metadata": {},
   "outputs": [
    {
     "name": "stdout",
     "output_type": "stream",
     "text": [
      "None\n"
     ]
    }
   ],
   "source": [
    "print(validationData.check_if_dataframe_is_empty())"
   ]
  },
  {
   "cell_type": "code",
   "execution_count": 15,
   "metadata": {},
   "outputs": [
    {
     "name": "stdout",
     "output_type": "stream",
     "text": [
      "O arquivo tem colunas importantes vazias: ['CopayInnTier2', 'CoinsInnTier2', 'MinimumStay']\n"
     ]
    }
   ],
   "source": [
    "# Step 4 - Validate data to check missing values\n",
    "# (None, no have missing - True have missing)\n",
    "print(validationData.check_for_missing_values())\n"
   ]
  },
  {
   "cell_type": "code",
   "execution_count": 16,
   "metadata": {},
   "outputs": [
    {
     "name": "stdout",
     "output_type": "stream",
     "text": [
      "None\n"
     ]
    }
   ],
   "source": [
    "print(validationData.validate_number_fields())"
   ]
  },
  {
   "cell_type": "code",
   "execution_count": 17,
   "metadata": {},
   "outputs": [
    {
     "name": "stdout",
     "output_type": "stream",
     "text": [
      "None\n"
     ]
    }
   ],
   "source": [
    "# Step 2 - Processing the matched columns\n",
    "# Validate the matched columns (True, no match - False, match )\n",
    "print(validationData.validate_matched_columns('column_name'))"
   ]
  },
  {
   "cell_type": "code",
   "execution_count": 19,
   "metadata": {},
   "outputs": [
    {
     "name": "stdout",
     "output_type": "stream",
     "text": [
      "Os tipos das colunas do arquivo estão como o esperado.\n"
     ]
    }
   ],
   "source": [
    "# Step 3 - Validate the data types\n",
    "# Validate datatype (True, match type ok, False, match type\n",
    "print(validationData.validate_data_types(\"column_name\", 'column_type_dataframe'))"
   ]
  },
  {
   "cell_type": "code",
   "execution_count": 20,
   "metadata": {},
   "outputs": [
    {
     "name": "stdout",
     "output_type": "stream",
     "text": [
      "None\n"
     ]
    }
   ],
   "source": [
    "result_check_unique_primary_key = validationData.check_unique_primary_key()\n",
    "print(result_check_unique_primary_key)"
   ]
  }
 ],
 "metadata": {
  "kernelspec": {
   "display_name": "venv",
   "language": "python",
   "name": "python3"
  },
  "language_info": {
   "codemirror_mode": {
    "name": "ipython",
    "version": 3
   },
   "file_extension": ".py",
   "mimetype": "text/x-python",
   "name": "python",
   "nbconvert_exporter": "python",
   "pygments_lexer": "ipython3",
   "version": "3.10.6"
  },
  "orig_nbformat": 4,
  "vscode": {
   "interpreter": {
    "hash": "e0b8af1d963ad76014d7a9370dcceebf497f18f2ffa524b5d688cc87842e96c3"
   }
  }
 },
 "nbformat": 4,
 "nbformat_minor": 2
}
